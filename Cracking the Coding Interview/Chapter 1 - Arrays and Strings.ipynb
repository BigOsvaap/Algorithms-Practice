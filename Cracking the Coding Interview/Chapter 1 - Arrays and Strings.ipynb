{
  "nbformat": 4,
  "nbformat_minor": 0,
  "metadata": {
    "colab": {
      "name": "Chapter 1 - Arrays and Strings.ipynb",
      "provenance": [],
      "collapsed_sections": [],
      "toc_visible": true,
      "authorship_tag": "ABX9TyN+DLyTUjWLCIYcBp8g/vgi",
      "include_colab_link": true
    },
    "kernelspec": {
      "name": "python3",
      "display_name": "Python 3"
    }
  },
  "cells": [
    {
      "cell_type": "markdown",
      "metadata": {
        "id": "view-in-github",
        "colab_type": "text"
      },
      "source": [
        "<a href=\"https://colab.research.google.com/github/BigOsvaap/Algorithms-Practice/blob/main/Cracking%20the%20Coding%20Interview/Chapter%201%20-%20Arrays%20and%20Strings.ipynb\" target=\"_parent\"><img src=\"https://colab.research.google.com/assets/colab-badge.svg\" alt=\"Open In Colab\"/></a>"
      ]
    },
    {
      "cell_type": "markdown",
      "metadata": {
        "id": "nsgn0mjj6zJ9"
      },
      "source": [
        "# 1.1 Is Unique\r\n",
        "Implement an algorithm to determine if a string has all unique characters. What if you cannot use additional data structures? \r\n",
        "\r\n"
      ]
    },
    {
      "cell_type": "markdown",
      "metadata": {
        "id": "rF_H01lg7ntT"
      },
      "source": [
        "\r\n",
        "## Solution #1\r\n",
        "\r\n",
        "Using an additional data structure"
      ]
    },
    {
      "cell_type": "code",
      "metadata": {
        "id": "u1bpDUZz6Y0B"
      },
      "source": [
        "def is_unique1(string):\r\n",
        "  seen = set()\r\n",
        "\r\n",
        "  for char in string:\r\n",
        "    if char in seen:\r\n",
        "      return False\r\n",
        "    else:\r\n",
        "      seen.add(char)\r\n",
        "      \r\n",
        "  return True"
      ],
      "execution_count": null,
      "outputs": []
    },
    {
      "cell_type": "markdown",
      "metadata": {
        "id": "x4N_hpBK8_po"
      },
      "source": [
        "##Solution #2\r\n",
        "\r\n",
        "Sorting array and checking if adjacent elements are equals"
      ]
    },
    {
      "cell_type": "code",
      "metadata": {
        "id": "C0yAA0BN9Oa-"
      },
      "source": [
        "def is_unique2(string):\r\n",
        "  string = sorted(string)\r\n",
        "\r\n",
        "  for i in range(len(string) - 1):\r\n",
        "    if string[i] == string[i + 1]:\r\n",
        "      return False\r\n",
        "\r\n",
        "  return True"
      ],
      "execution_count": null,
      "outputs": []
    },
    {
      "cell_type": "code",
      "metadata": {
        "colab": {
          "base_uri": "https://localhost:8080/"
        },
        "cellView": "form",
        "id": "4eDqVLY-Lb5S",
        "outputId": "2d54b5ee-4375-43ec-c3f2-0f9921dfce24"
      },
      "source": [
        "#@title TEST\n",
        "\n",
        "Solution = \"Solution 2\"  #@param ['Solution 1', 'Solution 2']\n",
        "\n",
        "def test(function):\n",
        "  assert function('Hola'), \"Returned False, answers is True\"\n",
        "  assert not function('Casa'), \"Returned True, answers is False\"\n",
        "\n",
        "  print(\"All tests passed!\")\n",
        "\n",
        "if Solution == 'Solution 1':\n",
        "  test(is_unique1)\n",
        "else:\n",
        "  test(is_unique2)"
      ],
      "execution_count": null,
      "outputs": [
        {
          "output_type": "stream",
          "text": [
            "All tests passed!\n"
          ],
          "name": "stdout"
        }
      ]
    },
    {
      "cell_type": "markdown",
      "metadata": {
        "id": "qenGsn3W9s15"
      },
      "source": [
        "#1.2 Check Permutation \r\n",
        "Given two strings, write a method to decide if one is a permutation of the other. "
      ]
    },
    {
      "cell_type": "markdown",
      "metadata": {
        "id": "E2EctG5uxmYF"
      },
      "source": [
        "##Solution #1"
      ]
    },
    {
      "cell_type": "code",
      "metadata": {
        "id": "4aN1e3tKwU5k"
      },
      "source": [
        "def checkPermutation(str1, str2):\r\n",
        "\r\n",
        "  if not len(str1) == len(str2):\r\n",
        "    return False\r\n",
        "\r\n",
        "  str1 = sorted(str1)\r\n",
        "  str2 = sorted(str2)\r\n",
        "\r\n",
        "  for i in range(len(str1)):\r\n",
        "    if str1[i] != str2[i]:\r\n",
        "      return False\r\n",
        "\r\n",
        "  return True"
      ],
      "execution_count": null,
      "outputs": []
    },
    {
      "cell_type": "markdown",
      "metadata": {
        "id": "kEoNuiLlyhiy"
      },
      "source": [
        "##Solution #2"
      ]
    },
    {
      "cell_type": "code",
      "metadata": {
        "id": "2_-uGq1iykB0"
      },
      "source": [
        "def checkPermutation(str1, str2):\r\n",
        "  str1_len = len(str1)\r\n",
        "  str2_len = len(str2)\r\n",
        "\r\n",
        "  if not str1_len == str2_len:\r\n",
        "    return False\r\n",
        "\r\n",
        "  counter = {}\r\n",
        "\r\n",
        "  for char in str1:\r\n",
        "    if char in counter:\r\n",
        "      counter[char] += 1\r\n",
        "    else:\r\n",
        "      counter[char] = 1\r\n",
        "\r\n",
        "  for char in str2:\r\n",
        "    if char in counter:\r\n",
        "      counter[char] -= 1\r\n",
        "      if counter[char] < 0:\r\n",
        "        return False\r\n",
        "    else:\r\n",
        "      return False\r\n",
        "\r\n",
        "  return True\r\n",
        "  "
      ],
      "execution_count": 8,
      "outputs": []
    },
    {
      "cell_type": "code",
      "metadata": {
        "colab": {
          "base_uri": "https://localhost:8080/"
        },
        "id": "7n5XuBOZyqOr",
        "outputId": "ef1f66a0-07a4-4e8f-e0c8-029ede0eff2a"
      },
      "source": [
        "checkPermutation(\"ddcab\", \"abcdd\")"
      ],
      "execution_count": 9,
      "outputs": [
        {
          "output_type": "execute_result",
          "data": {
            "text/plain": [
              "True"
            ]
          },
          "metadata": {
            "tags": []
          },
          "execution_count": 9
        }
      ]
    },
    {
      "cell_type": "markdown",
      "metadata": {
        "id": "thkCT87A95AS"
      },
      "source": [
        "#1.3 URLify: \r\n",
        "Write a method to replace all spaces in a string with '%20'. You may assume that the string has sufficient space at the end to hold the additional characters, and that you are given the \"true\" length of the string. (Note: If implementing in Java, please use a character array so that you can perform this operation in place.)\r\n",
        "\r\n",
        "\r\n",
        "EXAMPLE\r\n",
        "\r\n",
        "Input: \"Mr John Smith____\", 13\r\n",
        "\r\n",
        "Output: \"Mr%20John%20Smith\" "
      ]
    },
    {
      "cell_type": "markdown",
      "metadata": {
        "id": "PHfqyHzg_Zzq"
      },
      "source": [
        "##Solution 1\r\n",
        "\r\n",
        "Note: In python strings are immutable, that's the reason to convert the string to a list"
      ]
    },
    {
      "cell_type": "code",
      "metadata": {
        "colab": {
          "base_uri": "https://localhost:8080/",
          "height": 35
        },
        "id": "Ys8Lk-14_ZG4",
        "outputId": "480554ec-b80c-4d9b-bc28-d83a95ab3565"
      },
      "source": [
        "def URLify(string, true_lenght):\r\n",
        "  #String to List\r\n",
        "  string = list(string)\r\n",
        "\r\n",
        "  white_space = \"%20\"\r\n",
        "  string_len = len(string) - 1\r\n",
        "\r\n",
        "  for i in reversed(range(true_lenght)):\r\n",
        "    if string[i] == ' ':\r\n",
        "      for j in reversed(range(len(white_space))):\r\n",
        "        string[string_len] = white_space[j]\r\n",
        "        string_len -= 1\r\n",
        "    else:\r\n",
        "      string[string_len] = string[i]\r\n",
        "      string_len -= 1\r\n",
        "\r\n",
        "  return ''.join(string)\r\n",
        "\r\n",
        "URLify(\"Mr John Smith    \", 13)"
      ],
      "execution_count": null,
      "outputs": [
        {
          "output_type": "execute_result",
          "data": {
            "application/vnd.google.colaboratory.intrinsic+json": {
              "type": "string"
            },
            "text/plain": [
              "'Mr%20John%20Smith'"
            ]
          },
          "metadata": {
            "tags": []
          },
          "execution_count": 47
        }
      ]
    },
    {
      "cell_type": "markdown",
      "metadata": {
        "id": "wvToGj5E-GUd"
      },
      "source": [
        "#1.4 Palindrome Permutation\r\n",
        "Given a string, write a function to check if it is a permutation of a palindrome. A palindrome is a word or phrase that is the same forwards and backwards. A permutation is a rearrangement of letters. The palindrome does not need to be limited to just dictionary words.\r\n",
        "\r\n",
        "EXAMPLE\r\n",
        "\r\n",
        "Input: Tact Coa\r\n",
        "\r\n",
        "Output: True (permutations: \"taco cat\", \"atco eta\", etc.)"
      ]
    },
    {
      "cell_type": "markdown",
      "metadata": {
        "id": "13fJx7Jh-ejS"
      },
      "source": [
        "#1.5 One Away\r\n",
        "There are three types of edits that can be performed on strings: insert a character, remove a character, or replace a character. Given two strings, write a function to check if they are one edit (or zero edits) away.\r\n",
        "\r\n",
        "EXAMPLE\r\n",
        "\r\n",
        "pale, ple -> true\r\n",
        "\r\n",
        "pales, pale -> true\r\n",
        "\r\n",
        "pale, bale -> true\r\n",
        "\r\n",
        "pale, bake -> false"
      ]
    },
    {
      "cell_type": "markdown",
      "metadata": {
        "id": "zwnwRunj-oZa"
      },
      "source": [
        "#1.6 String Compression\r\n",
        "Implement a method to perform basic string compression using the counts of repeated characters. For example, the string aabcccccaaa would become a2blc5a3. If the \"compressed\" string would not become smaller than the original string, your method should return the original string. You can assume the string has only uppercase and lowercase letters (a - z). "
      ]
    },
    {
      "cell_type": "markdown",
      "metadata": {
        "id": "j5vN5H7w-1wP"
      },
      "source": [
        "#1.7 Rotate Matrix\r\n",
        "Given an image represented by an NxN matrix, where each pixel in the image is 4 bytes, write a method to rotate the image by 90 degrees. Can you do this in place?"
      ]
    },
    {
      "cell_type": "markdown",
      "metadata": {
        "id": "JOEkCoRx-9JD"
      },
      "source": [
        "#1.8 Zero Matrix\r\n",
        "Write an algorithm such that if an element in an MxN matrix is 0, its entire row and column are set to 0. "
      ]
    },
    {
      "cell_type": "markdown",
      "metadata": {
        "id": "_3ao0mUj_N4s"
      },
      "source": [
        "#1.9 String Rotation\r\n",
        "Assumeyou have a method isSubstringwhich checks if oneword is a substring of another. Given two strings, sl and s2, write code to check if s2 is a rotation of sl using only one call to isSubstring (e.g., \"waterbottle\" is a rotation of\"erbottlewat\")."
      ]
    }
  ]
}